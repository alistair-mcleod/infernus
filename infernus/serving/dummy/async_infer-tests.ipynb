{
 "cells": [
  {
   "cell_type": "code",
   "execution_count": 6,
   "id": "2ecb52bf",
   "metadata": {},
   "outputs": [],
   "source": [
    "import argparse\n",
    "import time\n",
    "import os\n",
    "from queue import Empty, Queue\n",
    "\n",
    "import numpy as np\n",
    "from tqdm import tqdm\n",
    "\n",
    "import tritonclient.grpc as grpcclient\n",
    "from tritonclient.utils import triton_to_np_dtype"
   ]
  },
  {
   "cell_type": "code",
   "execution_count": null,
   "id": "2bd04b59",
   "metadata": {},
   "outputs": [],
   "source": []
  },
  {
   "cell_type": "code",
   "execution_count": 31,
   "id": "c68211a3",
   "metadata": {},
   "outputs": [],
   "source": [
    "def onnx_callback(result, error=None) -> None:\n",
    "    try:\n",
    "        # raise the error if anything went wrong\n",
    "        if error is not None:\n",
    "            error = RuntimeError(str(error))\n",
    "            raise error\n",
    "\n",
    "        # read the request id from the server response\n",
    "        request_id = str(result.get_response().id)\n",
    "\n",
    "        # parse the numpy arrays from the response and\n",
    "        # package them into a dictionary mapping from\n",
    "        # the name of the output to the array\n",
    "        output = list(result._result.outputs)[0].name\n",
    "        np_output = result.as_numpy(output)[:,1]\n",
    "\n",
    "        # if there's only one output, just return the numpy\n",
    "        # array and spare the user the need to keep track\n",
    "        # of input and output names\n",
    "        if len(np_output) == 1:\n",
    "            np_output = np_output[output.name]\n",
    "\n",
    "        # send these parsed outputs to downstream processes\n",
    "        response = (np_output, request_id)\n",
    "    #         print(response)\n",
    "#         print(time.time())\n",
    "\n",
    "        if response is not None:\n",
    "            callback_q.put(response)\n",
    "        print(type(result))\n",
    "\n",
    "    except Exception as ex:\n",
    "        print(\"Exception in callback\")\n",
    "        template = \"An exception of type {0} occurred. Arguments:\\n{1!r}\"\n",
    "        message = template.format(type(ex).__name__, ex.args)\n",
    "        print(message)"
   ]
  },
  {
   "cell_type": "code",
   "execution_count": null,
   "id": "6ba49fc6",
   "metadata": {},
   "outputs": [],
   "source": []
  },
  {
   "cell_type": "code",
   "execution_count": 32,
   "id": "695a3535",
   "metadata": {},
   "outputs": [],
   "source": [
    "gpu_node = \"john108\"\n",
    "\n",
    "batch_size = 512\n",
    "model = \"test-onnx-512\"\n",
    "\n",
    "# Setting up client\n",
    "triton_client = grpcclient.InferenceServerClient(url=gpu_node + \":8001\")\n",
    "\n",
    "dummy_data = np.random.normal(size=(batch_size, 2048, 1)).astype(np.float32)\n",
    "inputs = grpcclient.InferInput(\"input_1\", dummy_data.shape, datatype=\"FP32\")\n",
    "output = grpcclient.InferRequestedOutput(\"dense_4\")"
   ]
  },
  {
   "cell_type": "code",
   "execution_count": null,
   "id": "6d18f05a",
   "metadata": {},
   "outputs": [],
   "source": []
  },
  {
   "cell_type": "code",
   "execution_count": 10,
   "id": "4b5a9917",
   "metadata": {},
   "outputs": [],
   "source": [
    "data = np.random.normal(size=(1, batch_size, 2048, 1)).astype(np.float32)"
   ]
  },
  {
   "cell_type": "code",
   "execution_count": null,
   "id": "3229f064",
   "metadata": {},
   "outputs": [],
   "source": []
  },
  {
   "cell_type": "code",
   "execution_count": 11,
   "id": "7c2644d7",
   "metadata": {},
   "outputs": [
    {
     "data": {
      "text/plain": [
       "0"
      ]
     },
     "execution_count": 11,
     "metadata": {},
     "output_type": "execute_result"
    }
   ],
   "source": [
    "triton_client.get_inference_statistics().model_stats[0].inference_stats.success.count"
   ]
  },
  {
   "cell_type": "code",
   "execution_count": 16,
   "id": "52c8a491",
   "metadata": {},
   "outputs": [
    {
     "data": {
      "text/plain": [
       "2454"
      ]
     },
     "execution_count": 16,
     "metadata": {},
     "output_type": "execute_result"
    }
   ],
   "source": [
    "triton_client.get_inference_statistics().model_stats[0].inference_stats.success.count"
   ]
  },
  {
   "cell_type": "code",
   "execution_count": null,
   "id": "a10199bb",
   "metadata": {},
   "outputs": [],
   "source": []
  },
  {
   "cell_type": "code",
   "execution_count": 35,
   "id": "1fd17687",
   "metadata": {
    "scrolled": true
   },
   "outputs": [
    {
     "name": "stdout",
     "output_type": "stream",
     "text": [
      "Start time: 1696229180.0811746\n",
      "1\n",
      "<class 'tritonclient.grpc._infer_result.InferResult'>\n",
      "End time: 1696229180.2585588\n"
     ]
    }
   ],
   "source": [
    "callback_q = Queue()\n",
    "\n",
    "t1 = time.time()\n",
    "print(\"Start time: {}\".format(t1))\n",
    "\n",
    "for j in range(len(data)):\n",
    "    request_id = f\"{j}\"\n",
    "\n",
    "    inputs.set_data_from_numpy(data[j])\n",
    "\n",
    "    triton_client.async_infer(\n",
    "        model_name=model, inputs=[inputs], outputs=[output], request_id=request_id, callback=onnx_callback\n",
    "    )\n",
    "    time.sleep(0.001)\n",
    "\n",
    "    \n",
    "\n",
    "all_responses = []\n",
    "count = 0\n",
    "while True:\n",
    "    count += 1\n",
    "    if count <= len(data):\n",
    "        print(count)\n",
    "        response = callback_q.get()\n",
    "        all_responses.append(response)\n",
    "#         print(response)\n",
    "    else:\n",
    "        break\n",
    "print(f\"End time: {time.time()}\")"
   ]
  },
  {
   "cell_type": "code",
   "execution_count": null,
   "id": "902ca8c8",
   "metadata": {},
   "outputs": [],
   "source": []
  },
  {
   "cell_type": "code",
   "execution_count": 34,
   "id": "1e762a16",
   "metadata": {
    "scrolled": true
   },
   "outputs": [
    {
     "data": {
      "text/plain": [
       "array([-12.881743 , -15.351374 , -16.866516 , -12.397059 , -12.99683  ,\n",
       "       -18.571247 , -12.5456295,  -9.547202 , -14.405883 , -11.336063 ,\n",
       "       -16.526608 , -13.485931 , -16.486914 , -17.400597 ,  -9.912657 ,\n",
       "       -11.725847 , -11.096227 , -13.250407 , -16.69548  , -12.62651  ,\n",
       "       -17.144135 , -12.980102 , -16.960503 , -16.325174 , -16.211586 ,\n",
       "       -12.854264 , -10.66183  , -15.986105 ,  -9.316241 , -10.747484 ,\n",
       "       -10.816374 , -16.467562 , -18.605772 ,  -9.400908 , -10.682304 ,\n",
       "       -16.381891 , -11.888888 , -13.241409 , -16.291039 , -15.457211 ,\n",
       "       -15.052286 , -15.159737 , -16.507519 , -16.069826 , -11.732653 ,\n",
       "        -8.788711 , -16.336948 , -15.306169 , -15.403146 , -14.043018 ,\n",
       "       -11.602609 , -15.618595 , -14.665495 , -13.103614 , -14.81268  ,\n",
       "       -17.299099 , -14.457716 , -14.481176 , -12.831978 , -15.330777 ,\n",
       "       -16.518269 , -12.720187 , -10.322359 , -14.518945 , -14.785755 ,\n",
       "       -15.759824 , -13.998498 , -15.682806 , -15.376196 , -14.004989 ,\n",
       "       -12.420131 , -10.817443 ,  -8.883968 , -15.615522 , -15.018438 ,\n",
       "       -13.4879465, -10.009102 , -12.88635  , -12.470502 , -13.141675 ,\n",
       "       -13.814869 , -15.440755 , -14.9123335, -16.520313 , -13.5153055,\n",
       "       -13.179023 , -11.431324 , -11.890745 , -16.19401  , -13.456464 ,\n",
       "       -14.746759 , -10.468276 , -11.122239 , -10.831819 , -11.923596 ,\n",
       "       -14.409736 , -11.338226 , -16.757977 , -10.767563 , -13.884805 ,\n",
       "       -14.567445 , -17.358454 , -12.145418 , -15.630766 , -16.509892 ,\n",
       "       -13.996418 , -15.299728 , -12.93574  , -13.918322 ,  -9.867998 ,\n",
       "       -10.189565 , -16.895205 , -10.802984 , -16.073627 , -17.152649 ,\n",
       "       -15.293247 ,  -9.57675  ,  -9.198878 , -14.391846 , -11.649303 ,\n",
       "       -10.846064 , -12.147395 , -13.838001 , -10.701702 , -12.985576 ,\n",
       "       -16.595713 , -13.096366 , -14.499166 , -12.862601 ,  -9.6514845,\n",
       "        -9.8676   , -13.508018 , -15.391129 , -16.733484 , -11.708671 ,\n",
       "       -10.018175 , -10.318018 , -14.829081 , -15.237294 , -12.539414 ,\n",
       "       -16.853636 , -15.374211 , -14.122145 , -12.726571 , -15.197897 ,\n",
       "       -16.25812  , -12.800453 , -13.002792 , -12.022552 , -15.692521 ,\n",
       "       -15.791034 , -12.205818 , -10.322236 , -15.667896 , -15.54149  ,\n",
       "       -13.687261 , -12.899933 , -12.686714 , -16.616764 , -16.106    ,\n",
       "       -16.715227 , -15.810884 , -11.018507 , -13.116677 , -13.866166 ,\n",
       "       -13.458362 , -10.227393 , -17.050514 , -11.425139 , -11.030092 ,\n",
       "       -10.991812 , -10.711181 , -11.046409 , -16.803999 , -11.655259 ,\n",
       "       -14.744622 , -15.712218 , -15.377663 , -12.515372 , -16.671259 ,\n",
       "       -12.106466 , -14.742442 , -10.281822 , -17.165993 , -10.165527 ,\n",
       "        -8.197318 , -16.849026 , -16.138966 ,  -8.810027 ,  -9.208102 ,\n",
       "       -16.219698 , -16.456537 , -15.428541 , -15.35031  , -13.063695 ,\n",
       "       -15.801577 , -16.658703 , -15.655727 , -15.105836 , -15.409641 ,\n",
       "       -11.810562 , -10.044961 , -10.4455805,  -9.120204 , -16.926842 ,\n",
       "       -12.223795 , -10.389426 , -11.8879175, -14.600028 , -14.681767 ,\n",
       "       -14.7081   , -12.586685 , -11.600837 , -16.458559 , -16.76217  ,\n",
       "       -16.908495 , -17.172699 , -17.107632 , -16.37806  , -16.14231  ,\n",
       "       -12.647415 , -11.39432  , -12.096432 ,  -9.091951 , -11.2764435,\n",
       "       -17.06315  , -13.328562 , -10.94501  , -12.500232 , -16.72221  ,\n",
       "       -15.229172 , -16.593979 , -16.63518  , -10.666963 , -10.836329 ,\n",
       "        -9.988855 , -10.205722 , -12.691651 , -15.046445 , -14.519676 ,\n",
       "       -12.705924 , -17.63453  , -10.18233  , -16.4461   , -12.747444 ,\n",
       "       -16.033026 , -10.147551 , -11.511295 ,  -9.822479 , -12.7463   ,\n",
       "        -9.889273 , -13.389315 , -14.169392 , -10.442379 , -15.946845 ,\n",
       "       -13.690369 , -11.169266 , -16.72125  , -16.49667  , -15.002553 ,\n",
       "       -17.163704 , -10.073012 , -16.775496 , -10.338751 , -15.518484 ,\n",
       "       -10.831916 , -11.536268 , -14.385949 , -15.392825 , -13.423163 ,\n",
       "       -16.321255 , -17.315086 , -16.376438 , -13.236707 , -14.446349 ,\n",
       "       -15.027884 , -16.266954 , -10.344673 , -11.725674 , -14.051041 ,\n",
       "       -13.304824 ,  -8.987709 , -16.273027 , -16.46928  , -16.128578 ,\n",
       "       -12.962479 ,  -9.73938  , -16.579191 , -16.107944 , -15.59956  ,\n",
       "       -14.982514 , -14.833478 , -13.3934555,  -9.515124 , -16.281898 ,\n",
       "       -15.637228 , -11.9905615, -10.870411 , -13.339151 , -16.572767 ,\n",
       "       -15.803363 ,  -9.808985 , -13.678048 , -16.538368 , -14.874739 ,\n",
       "       -11.418284 , -10.328907 , -12.274475 , -11.189374 , -15.145444 ,\n",
       "       -11.704889 , -14.4045515, -14.896524 , -14.720329 , -16.470863 ,\n",
       "       -16.60649  , -11.943851 , -15.733249 , -11.61585  , -12.523295 ,\n",
       "       -13.417285 , -14.903196 , -10.687504 , -11.296775 , -14.306862 ,\n",
       "       -11.638587 , -13.235841 , -10.798764 , -16.141352 , -12.80767  ,\n",
       "       -15.904444 , -13.2367   , -11.484697 , -17.204624 ,  -9.825939 ,\n",
       "        -9.671317 , -13.946075 , -11.158225 , -15.876473 , -11.706865 ,\n",
       "       -12.32634  , -10.53823  , -11.065528 , -15.633379 , -13.109209 ,\n",
       "       -15.565084 , -15.943609 , -16.471405 , -13.350315 , -15.729427 ,\n",
       "       -16.762545 ,  -9.97354  , -12.239773 , -14.77318  , -15.024208 ,\n",
       "       -14.572155 , -17.371656 , -11.163393 , -13.8808775, -15.990598 ,\n",
       "       -12.280253 , -17.489582 , -14.84261  , -13.139226 , -16.916565 ,\n",
       "       -14.907399 , -11.287301 , -13.775061 , -10.625917 ,  -8.557917 ,\n",
       "       -10.299194 , -11.706762 , -12.301174 , -10.134536 ,  -9.717552 ,\n",
       "       -16.02431  , -13.274496 , -15.582498 , -11.821893 ,  -9.082769 ,\n",
       "        -9.411595 , -13.248706 ,  -8.959415 , -15.385632 , -15.027017 ,\n",
       "       -17.4986   , -15.905382 ,  -8.704689 , -10.072643 , -15.496016 ,\n",
       "       -14.372583 , -14.58783  , -16.388035 , -15.721655 , -11.118182 ,\n",
       "        -9.341114 , -14.216894 , -16.230883 , -14.8167305, -16.242958 ,\n",
       "       -15.605674 , -14.517088 , -14.331158 , -15.52407  , -17.296146 ,\n",
       "       -12.408731 , -15.905465 ,  -9.3452835, -17.032324 , -14.5555   ,\n",
       "       -10.674248 , -11.272969 ,  -9.537557 , -11.680408 , -11.4262   ,\n",
       "       -10.364338 ,  -9.478394 , -17.51008  , -16.353184 , -11.441014 ,\n",
       "       -14.569836 , -15.462713 , -10.046219 , -14.302215 , -16.354313 ,\n",
       "       -16.826244 , -12.970269 , -15.104459 , -14.626072 , -16.957996 ,\n",
       "       -13.345302 , -13.546543 , -15.868386 , -13.702343 , -12.781109 ,\n",
       "       -11.644941 , -13.169719 , -12.347671 , -10.882199 ,  -9.474868 ,\n",
       "       -15.996414 , -18.6983   , -11.960519 , -15.441597 , -14.97051  ,\n",
       "       -10.710579 , -13.662122 , -16.709265 , -16.300484 , -16.84412  ,\n",
       "       -11.122439 , -14.060687 , -14.86236  , -12.721735 , -14.193481 ,\n",
       "        -9.627869 ,  -9.378789 , -16.530966 , -12.181486 , -13.548472 ,\n",
       "       -14.524295 ,  -9.834865 , -14.835534 , -11.437459 , -16.79658  ,\n",
       "        -8.068032 , -16.335396 , -12.196775 , -15.86059  , -11.703706 ,\n",
       "       -16.061907 , -15.183221 ,  -9.328844 ,  -9.325107 , -12.75898  ,\n",
       "       -10.705393 , -15.009429 , -14.974564 ,  -8.112806 , -16.66023  ,\n",
       "       -13.22281  , -15.54452  , -15.140416 , -18.260849 , -12.319291 ,\n",
       "       -13.109198 , -16.320372 , -12.567622 ,  -9.196049 , -14.256371 ,\n",
       "       -16.966915 , -13.99421  , -14.919738 , -13.308058 , -15.359322 ,\n",
       "       -11.91357  , -12.707381 , -11.633266 , -15.023205 , -14.873246 ,\n",
       "       -15.809294 , -14.157245 , -10.518571 , -12.970794 , -15.349196 ,\n",
       "        -9.01528  , -17.214714 ,  -9.936303 , -15.081255 , -11.868473 ,\n",
       "       -16.559502 , -13.78674  ], dtype=float32)"
      ]
     },
     "execution_count": 34,
     "metadata": {},
     "output_type": "execute_result"
    }
   ],
   "source": [
    "all_responses[0][0]"
   ]
  },
  {
   "cell_type": "code",
   "execution_count": null,
   "id": "3be32a8d",
   "metadata": {},
   "outputs": [],
   "source": []
  },
  {
   "cell_type": "code",
   "execution_count": null,
   "id": "bf90788c",
   "metadata": {},
   "outputs": [],
   "source": []
  },
  {
   "cell_type": "code",
   "execution_count": null,
   "id": "88b7b6f9",
   "metadata": {},
   "outputs": [],
   "source": []
  },
  {
   "cell_type": "code",
   "execution_count": null,
   "id": "c881a762",
   "metadata": {},
   "outputs": [],
   "source": []
  },
  {
   "cell_type": "code",
   "execution_count": null,
   "id": "2fc78943",
   "metadata": {},
   "outputs": [],
   "source": []
  }
 ],
 "metadata": {
  "kernelspec": {
   "display_name": "Python 3 (ipykernel)",
   "language": "python",
   "name": "python3"
  },
  "language_info": {
   "codemirror_mode": {
    "name": "ipython",
    "version": 3
   },
   "file_extension": ".py",
   "mimetype": "text/x-python",
   "name": "python",
   "nbconvert_exporter": "python",
   "pygments_lexer": "ipython3",
   "version": "3.10.4"
  }
 },
 "nbformat": 4,
 "nbformat_minor": 5
}
