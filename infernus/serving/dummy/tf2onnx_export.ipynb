{
 "cells": [
  {
   "cell_type": "code",
   "execution_count": 1,
   "id": "50ececdb",
   "metadata": {},
   "outputs": [
    {
     "name": "stderr",
     "output_type": "stream",
     "text": [
      "2023-09-29 17:41:03.567407: I tensorflow/core/platform/cpu_feature_guard.cc:193] This TensorFlow binary is optimized with oneAPI Deep Neural Network Library (oneDNN) to use the following CPU instructions in performance-critical operations:  AVX2 AVX512F FMA\n",
      "To enable them in other operations, rebuild TensorFlow with the appropriate compiler flags.\n",
      "2023-09-29 17:42:11.682107: W tensorflow/compiler/xla/stream_executor/platform/default/dso_loader.cc:64] Could not load dynamic library 'libnvinfer.so.7'; dlerror: libnvinfer.so.7: cannot open shared object file: No such file or directory; LD_LIBRARY_PATH: /apps/modules/software/cuDNN/8.4.1.50-CUDA-11.7.0/lib:/apps/modules/software/Python/3.10.4-GCCcore-11.3.0/lib:/apps/modules/software/libffi/3.4.2-GCCcore-11.3.0/lib64:/apps/modules/software/GMP/6.2.1-GCCcore-11.3.0/lib:/apps/modules/software/SQLite/3.38.3-GCCcore-11.3.0/lib:/apps/modules/software/Tcl/8.6.12-GCCcore-11.3.0/lib:/apps/modules/software/HDF5/1.13.1-gompi-2022a/lib:/apps/modules/software/OpenMPI/4.1.4-GCC-11.3.0/lib:/apps/modules/software/GSL/2.7-GCC-11.3.0/lib:/apps/modules/software/Boost/1.79.0-GCC-11.3.0/lib:/apps/modules/software/Szip/2.1.1-GCCcore-11.3.0/lib:/apps/modules/software/ICU/71.1-GCCcore-11.3.0/lib:/apps/modules/software/zstd/1.5.2-GCCcore-11.3.0/lib:/apps/modules/software/lz4/1.9.3-GCCcore-11.3.0/lib:/apps/modules/software/bzip2/1.0.8-GCCcore-11.3.0/lib:/apps/modules/software/DB/18.1.40-GCCcore-11.3.0/lib:/apps/modules/software/libreadline/8.1.2-GCCcore-11.3.0/lib:/apps/modules/software/gettext/0.21-GCCcore-11.3.0/lib:/apps/modules/software/ncurses/6.3-GCCcore-11.3.0/lib:/apps/modules/software/expat/2.4.8-GCCcore-11.3.0/lib:/apps/modules/software/cURL/7.83.0-GCCcore-11.3.0/lib:/apps/modules/software/CUDA/11.7.0/nvvm/lib64:/apps/modules/software/CUDA/11.7.0/extras/CUPTI/lib64:/apps/modules/software/CUDA/11.7.0/lib:/apps/modules/software/UCC/1.1.0-GCCcore-11.3.0/lib:/apps/modules/software/PMIx/4.1.2-GCCcore-11.3.0/lib:/apps/modules/software/libfabric/1.15.1-GCCcore-11.3.0/lib:/apps/modules/software/UCX/1.13.1-GCCcore-11.3.0/lib:/apps/modules/software/libevent/2.1.12-GCCcore-11.3.0/lib:/apps/modules/software/OpenSSL/1.1/lib:/apps/modules/software/hwloc/2.7.1-GCCcore-11.3.0/lib:/apps/modules/software/libpciaccess/0.16-GCCcore-11.3.0/lib:/apps/modules/software/libxml2/2.9.13-GCCcore-11.3.0/lib:/apps/modules/software/XZ/5.2.5-GCCcore-11.3.0/lib:/apps/modules/software/numactl/2.0.14-GCCcore-11.3.0/lib:/apps/modules/software/binutils/2.38-GCCcore-11.3.0/lib:/apps/modules/software/zlib/1.2.12-GCCcore-11.3.0/lib:/apps/modules/software/GCCcore/11.3.0/lib64:/apps/slurm/latest/lib:/apps/slurm/latest/lib/slurm:/opt/nvidia/latest/usr/lib64\n",
      "2023-09-29 17:42:11.687588: W tensorflow/compiler/xla/stream_executor/platform/default/dso_loader.cc:64] Could not load dynamic library 'libnvinfer_plugin.so.7'; dlerror: libnvinfer_plugin.so.7: cannot open shared object file: No such file or directory; LD_LIBRARY_PATH: /apps/modules/software/cuDNN/8.4.1.50-CUDA-11.7.0/lib:/apps/modules/software/Python/3.10.4-GCCcore-11.3.0/lib:/apps/modules/software/libffi/3.4.2-GCCcore-11.3.0/lib64:/apps/modules/software/GMP/6.2.1-GCCcore-11.3.0/lib:/apps/modules/software/SQLite/3.38.3-GCCcore-11.3.0/lib:/apps/modules/software/Tcl/8.6.12-GCCcore-11.3.0/lib:/apps/modules/software/HDF5/1.13.1-gompi-2022a/lib:/apps/modules/software/OpenMPI/4.1.4-GCC-11.3.0/lib:/apps/modules/software/GSL/2.7-GCC-11.3.0/lib:/apps/modules/software/Boost/1.79.0-GCC-11.3.0/lib:/apps/modules/software/Szip/2.1.1-GCCcore-11.3.0/lib:/apps/modules/software/ICU/71.1-GCCcore-11.3.0/lib:/apps/modules/software/zstd/1.5.2-GCCcore-11.3.0/lib:/apps/modules/software/lz4/1.9.3-GCCcore-11.3.0/lib:/apps/modules/software/bzip2/1.0.8-GCCcore-11.3.0/lib:/apps/modules/software/DB/18.1.40-GCCcore-11.3.0/lib:/apps/modules/software/libreadline/8.1.2-GCCcore-11.3.0/lib:/apps/modules/software/gettext/0.21-GCCcore-11.3.0/lib:/apps/modules/software/ncurses/6.3-GCCcore-11.3.0/lib:/apps/modules/software/expat/2.4.8-GCCcore-11.3.0/lib:/apps/modules/software/cURL/7.83.0-GCCcore-11.3.0/lib:/apps/modules/software/CUDA/11.7.0/nvvm/lib64:/apps/modules/software/CUDA/11.7.0/extras/CUPTI/lib64:/apps/modules/software/CUDA/11.7.0/lib:/apps/modules/software/UCC/1.1.0-GCCcore-11.3.0/lib:/apps/modules/software/PMIx/4.1.2-GCCcore-11.3.0/lib:/apps/modules/software/libfabric/1.15.1-GCCcore-11.3.0/lib:/apps/modules/software/UCX/1.13.1-GCCcore-11.3.0/lib:/apps/modules/software/libevent/2.1.12-GCCcore-11.3.0/lib:/apps/modules/software/OpenSSL/1.1/lib:/apps/modules/software/hwloc/2.7.1-GCCcore-11.3.0/lib:/apps/modules/software/libpciaccess/0.16-GCCcore-11.3.0/lib:/apps/modules/software/libxml2/2.9.13-GCCcore-11.3.0/lib:/apps/modules/software/XZ/5.2.5-GCCcore-11.3.0/lib:/apps/modules/software/numactl/2.0.14-GCCcore-11.3.0/lib:/apps/modules/software/binutils/2.38-GCCcore-11.3.0/lib:/apps/modules/software/zlib/1.2.12-GCCcore-11.3.0/lib:/apps/modules/software/GCCcore/11.3.0/lib64:/apps/slurm/latest/lib:/apps/slurm/latest/lib/slurm:/opt/nvidia/latest/usr/lib64\n",
      "2023-09-29 17:42:11.687619: W tensorflow/compiler/tf2tensorrt/utils/py_utils.cc:38] TF-TRT Warning: Cannot dlopen some TensorRT libraries. If you would like to use Nvidia GPU with TensorRT, please make sure the missing libraries mentioned above are installed properly.\n"
     ]
    }
   ],
   "source": [
    "import onnx, tf2onnx\n",
    "\n",
    "import tensorflow as tf\n",
    "from tensorflow.keras.activations import linear\n",
    "from tensorflow.keras.models import load_model\n",
    "from tensorflow.python.compiler.tensorrt import trt_convert as trt"
   ]
  },
  {
   "cell_type": "code",
   "execution_count": null,
   "id": "860fa1e6",
   "metadata": {},
   "outputs": [],
   "source": []
  },
  {
   "cell_type": "code",
   "execution_count": 2,
   "id": "a676fca8",
   "metadata": {},
   "outputs": [
    {
     "name": "stdout",
     "output_type": "stream",
     "text": [
      "<dtype: 'float32'>\n"
     ]
    },
    {
     "name": "stderr",
     "output_type": "stream",
     "text": [
      "WARNING:absl:Found untraced functions such as _jit_compiled_convolution_op, _jit_compiled_convolution_op, _jit_compiled_convolution_op, _jit_compiled_convolution_op, _jit_compiled_convolution_op while saving (showing 5 of 11). These functions will not be directly callable after loading.\n"
     ]
    },
    {
     "name": "stdout",
     "output_type": "stream",
     "text": [
      "INFO:tensorflow:Assets written to: tf_test/assets\n"
     ]
    },
    {
     "name": "stderr",
     "output_type": "stream",
     "text": [
      "INFO:tensorflow:Assets written to: tf_test/assets\n"
     ]
    }
   ],
   "source": [
    "# Load model0\n",
    "model_path = \"/fred/oz016/damon/gauss_ml_1_detector/models/model_test1resnetconv1d_8to1noise_2class_snr5to50_same.h5\"\n",
    "# model_path = \"/fred/oz016/damon/gauss_ml_1_detector/models/model_testtest_1det_resnet_same.h5\"\n",
    "model = load_model(model_path)\n",
    "model.layers[-1].activation = linear\n",
    "model.compile()\n",
    "print(model.inputs[0].dtype)\n",
    "\n",
    "model.save('tf_test')"
   ]
  },
  {
   "cell_type": "code",
   "execution_count": null,
   "id": "07e609a3",
   "metadata": {},
   "outputs": [],
   "source": []
  },
  {
   "cell_type": "code",
   "execution_count": 3,
   "id": "b2af1fb1",
   "metadata": {},
   "outputs": [
    {
     "name": "stdout",
     "output_type": "stream",
     "text": [
      "/apps/modules/software/Python/3.10.4-GCCcore-11.3.0/lib/python3.10/runpy.py:126: RuntimeWarning: 'tf2onnx.convert' found in sys.modules after import of package 'tf2onnx', but prior to execution of 'tf2onnx.convert'; this may result in unpredictable behaviour\n",
      "  warn(RuntimeWarning(msg))\n",
      "2023-09-29 17:44:46,758 - WARNING - '--tag' not specified for saved_model. Using --tag serve\n",
      "2023-09-29 17:44:50,524 - INFO - Signatures found in model: [serving_default].\n",
      "2023-09-29 17:44:50,524 - WARNING - '--signature_def' not specified, using first signature: serving_default\n",
      "2023-09-29 17:44:50,525 - INFO - Output names: ['dense_4']\n",
      "2023-09-29 17:44:51,083 - INFO - Using tensorflow=2.11.0, onnx=1.14.0, tf2onnx=1.14.0/8f8d49\n",
      "2023-09-29 17:44:51,084 - INFO - Using opset <onnx, 15>\n",
      "2023-09-29 17:44:51,137 - INFO - Computed 0 values for constant folding\n",
      "2023-09-29 17:44:51,139 - INFO - Computed 0 values for constant folding\n",
      "2023-09-29 17:44:51,148 - INFO - Computed 0 values for constant folding\n",
      "2023-09-29 17:44:51,153 - INFO - Computed 0 values for constant folding\n",
      "2023-09-29 17:44:51,311 - INFO - Computed 2 values for constant folding\n",
      "2023-09-29 17:44:51,338 - INFO - folding node using tf type=StridedSlice, name=StatefulPartitionedCall/model/bidirectional/forward_lstm/PartitionedCall/strided_slice\n",
      "2023-09-29 17:44:51,338 - INFO - folding node using tf type=StridedSlice, name=StatefulPartitionedCall/model/bidirectional/backward_lstm/PartitionedCall/strided_slice\n",
      "2023-09-29 17:44:51,422 - INFO - Optimizing ONNX model\n",
      "2023-09-29 17:44:51,723 - INFO - After optimization: Cast -13 (15->2), Concat -4 (7->3), Const -71 (112->41), Expand -3 (4->1), Identity -3 (3->0), Reshape -6 (9->3), Shape -1 (2->1), Slice -1 (6->5), Squeeze -2 (15->13), Transpose -16 (19->3), Unsqueeze -11 (21->10)\n",
      "2023-09-29 17:44:51,775 - INFO - \n",
      "2023-09-29 17:44:51,775 - INFO - Successfully converted TensorFlow model tf_test to ONNX\n",
      "2023-09-29 17:44:51,775 - INFO - Model inputs: ['input_1']\n",
      "2023-09-29 17:44:51,775 - INFO - Model outputs: ['dense_4']\n",
      "2023-09-29 17:44:51,775 - INFO - ONNX model is saved at temp.onnx\n"
     ]
    }
   ],
   "source": [
    "!python -m tf2onnx.convert --saved-model tf_test --output temp.onnx"
   ]
  },
  {
   "cell_type": "code",
   "execution_count": null,
   "id": "06a8279f",
   "metadata": {},
   "outputs": [],
   "source": []
  },
  {
   "cell_type": "code",
   "execution_count": 4,
   "id": "820ebd2a",
   "metadata": {},
   "outputs": [],
   "source": [
    "BATCH_SIZE = 512\n",
    "\n",
    "onnx_model = onnx.load_model('temp.onnx')\n",
    "\n",
    "inputs = onnx_model.graph.input\n",
    "for input in inputs:\n",
    "    dim1 = input.type.tensor_type.shape.dim[0]\n",
    "    dim1.dim_value = BATCH_SIZE\n",
    "    \n",
    "model_name = \"model-512.onnx\"\n",
    "onnx.save_model(onnx_model, model_name)"
   ]
  },
  {
   "cell_type": "code",
   "execution_count": null,
   "id": "6c338b03",
   "metadata": {},
   "outputs": [],
   "source": []
  },
  {
   "cell_type": "code",
   "execution_count": null,
   "id": "c633f47f",
   "metadata": {},
   "outputs": [],
   "source": []
  },
  {
   "cell_type": "code",
   "execution_count": null,
   "id": "11f9855b",
   "metadata": {},
   "outputs": [],
   "source": []
  },
  {
   "cell_type": "code",
   "execution_count": null,
   "id": "bcbc66cc",
   "metadata": {},
   "outputs": [],
   "source": []
  },
  {
   "cell_type": "code",
   "execution_count": null,
   "id": "0d49fe65",
   "metadata": {},
   "outputs": [],
   "source": []
  },
  {
   "cell_type": "code",
   "execution_count": null,
   "id": "36913ff3",
   "metadata": {},
   "outputs": [],
   "source": []
  },
  {
   "cell_type": "code",
   "execution_count": null,
   "id": "6adea630",
   "metadata": {},
   "outputs": [],
   "source": []
  },
  {
   "cell_type": "code",
   "execution_count": null,
   "id": "e6d6c561",
   "metadata": {},
   "outputs": [],
   "source": []
  },
  {
   "cell_type": "code",
   "execution_count": null,
   "id": "345870f2",
   "metadata": {},
   "outputs": [],
   "source": []
  },
  {
   "cell_type": "code",
   "execution_count": null,
   "id": "843e13c2",
   "metadata": {},
   "outputs": [],
   "source": []
  }
 ],
 "metadata": {
  "kernelspec": {
   "display_name": "Python 3 (ipykernel)",
   "language": "python",
   "name": "python3"
  },
  "language_info": {
   "codemirror_mode": {
    "name": "ipython",
    "version": 3
   },
   "file_extension": ".py",
   "mimetype": "text/x-python",
   "name": "python",
   "nbconvert_exporter": "python",
   "pygments_lexer": "ipython3",
   "version": "3.10.4"
  }
 },
 "nbformat": 4,
 "nbformat_minor": 5
}
